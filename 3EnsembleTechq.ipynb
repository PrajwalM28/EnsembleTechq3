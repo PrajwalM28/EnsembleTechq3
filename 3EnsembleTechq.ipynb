{
 "cells": [
  {
   "cell_type": "markdown",
   "id": "8435eabe-327a-4af3-b599-a315bdafaf1c",
   "metadata": {},
   "source": [
    "# Q1.\n",
    "### What is Random Forest Regressor?"
   ]
  },
  {
   "cell_type": "markdown",
   "id": "eebf7ad9-97e7-43c3-b676-7fcded1901e1",
   "metadata": {},
   "source": [
    "- Random Forest Regressor is an ensemble learning method used for regression tasks. It is based on the Random Forest algorithm, which constructs multiple decision trees during training and outputs the average prediction of the individual trees for regression tasks."
   ]
  },
  {
   "cell_type": "markdown",
   "id": "75cc4502-7b48-46b6-bfdb-8a1937d1c923",
   "metadata": {},
   "source": [
    "# Q2.\n",
    "### How does Random Forest Regressor reduce the risk of overfitting?"
   ]
  },
  {
   "cell_type": "markdown",
   "id": "50ca3678-d575-4a4d-88c6-dafc107aa804",
   "metadata": {},
   "source": [
    "- Training each decision tree on a random subset of the training data and a random subset of features at each split, which introduces randomness and reduces correlation among trees.\n",
    "- Averaging the predictions of multiple trees, which helps to smooth out noise and outliers in the data."
   ]
  },
  {
   "cell_type": "markdown",
   "id": "15f8e164-fd69-4cc8-a62d-45aba788e13a",
   "metadata": {},
   "source": [
    "# Q3.\n",
    "###  How does Random Forest Regressor aggregate the predictions of multiple decision trees?"
   ]
  },
  {
   "cell_type": "markdown",
   "id": "1f3e32dc-b4bf-4369-8171-2375be196926",
   "metadata": {},
   "source": [
    "- Random Forest Regressor aggregates the predictions of multiple decision trees by averaging the individual predictions for regression tasks. "
   ]
  },
  {
   "cell_type": "markdown",
   "id": "8f2b9f57-eada-4ea8-9dd3-bb28cd428b79",
   "metadata": {},
   "source": [
    "# Q4.\n",
    "### What are the hyperparameters of Random Forest Regressor?"
   ]
  },
  {
   "cell_type": "markdown",
   "id": "de3f3556-f8cf-43b4-b114-81969a426a16",
   "metadata": {},
   "source": [
    "- n_estimators\n",
    "- max_depth\n",
    "- min_samples_split\n",
    "- max_features\n",
    "- bootstrap"
   ]
  },
  {
   "cell_type": "markdown",
   "id": "dd93c4e7-90b5-4a49-b1fa-52c301c4fa17",
   "metadata": {},
   "source": [
    "# Q5.\n",
    "### What is the difference between Random Forest Regressor and Decision Tree Regressor?"
   ]
  },
  {
   "cell_type": "markdown",
   "id": "19297107-3a51-4e99-baee-67b68e476f40",
   "metadata": {},
   "source": [
    "- Random Forest Regressor builds multiple decision trees and aggregates their predictions, while Decision Tree Regressor builds a single decision tree."
   ]
  },
  {
   "cell_type": "markdown",
   "id": "f3b1f09a-299f-4b32-8b38-1078b09b4b88",
   "metadata": {},
   "source": [
    "# Q6.\n",
    "### What are the advantages and disadvantages of Random Forest Regressor?"
   ]
  },
  {
   "cell_type": "markdown",
   "id": "416f24eb-59e6-42df-bde8-0a23d9f8481f",
   "metadata": {},
   "source": [
    "- Advantages : \n",
    "    - Robustness to overfitting and noisy data.\n",
    "    - Ability to handle high-dimensional data with a large number of features.\n",
    "    - Automatic feature selection by considering a random subset of features at each split.\n",
    "    \n",
    "- Disadvantages : \n",
    "    - Lack of interpretability compared to a single decision tree.\n",
    "    - Increased computational complexity and training time compared to Decision Tree Regressor.\n",
    "    - Difficulty in tuning hyperparameters for optimal performance."
   ]
  },
  {
   "cell_type": "markdown",
   "id": "c10ddde2-8530-44c7-8c40-83674e2ad564",
   "metadata": {},
   "source": [
    "# Q7.\n",
    "### What is the output of Random Forest Regressor?"
   ]
  },
  {
   "cell_type": "markdown",
   "id": "f0469372-2e7a-4910-bd13-5971e2ace787",
   "metadata": {},
   "source": [
    "- The output of Random Forest Regressor is a continuous value, representing the predicted target variable for regression tasks."
   ]
  },
  {
   "cell_type": "markdown",
   "id": "808a19a4-f2af-4f71-9946-8d63051cde65",
   "metadata": {},
   "source": [
    "# Q8.\n",
    "### Can Random Forest Regressor be used for classification tasks?"
   ]
  },
  {
   "cell_type": "markdown",
   "id": "0b726ebb-6940-4482-8cb2-731ba8dcecfb",
   "metadata": {},
   "source": [
    "-  it can also be adapted for classification tasks by modifying the algorithm to perform classification instead of regression."
   ]
  }
 ],
 "metadata": {
  "kernelspec": {
   "display_name": "Python 3 (ipykernel)",
   "language": "python",
   "name": "python3"
  },
  "language_info": {
   "codemirror_mode": {
    "name": "ipython",
    "version": 3
   },
   "file_extension": ".py",
   "mimetype": "text/x-python",
   "name": "python",
   "nbconvert_exporter": "python",
   "pygments_lexer": "ipython3",
   "version": "3.10.8"
  }
 },
 "nbformat": 4,
 "nbformat_minor": 5
}
